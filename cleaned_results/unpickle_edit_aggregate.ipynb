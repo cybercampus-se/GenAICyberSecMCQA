{
 "cells": [
  {
   "cell_type": "code",
   "id": "initial_id",
   "metadata": {
    "collapsed": true,
    "ExecuteTime": {
     "end_time": "2025-03-17T17:16:33.898215Z",
     "start_time": "2025-03-17T17:16:33.896472Z"
    }
   },
   "source": [
    ""
   ],
   "outputs": [],
   "execution_count": null
  },
  {
   "metadata": {
    "ExecuteTime": {
     "end_time": "2025-03-17T17:16:33.910176Z",
     "start_time": "2025-03-17T17:16:33.907791Z"
    }
   },
   "cell_type": "code",
   "source": [
    "import pandas as pd\n",
    "import glob\n",
    "import pickle\n",
    "import argparse\n",
    "import re\n",
    "import os"
   ],
   "id": "6adf86deb51f19a6",
   "outputs": [],
   "execution_count": 11
  },
  {
   "metadata": {
    "ExecuteTime": {
     "end_time": "2025-03-17T17:16:33.958372Z",
     "start_time": "2025-03-17T17:16:33.955369Z"
    }
   },
   "cell_type": "code",
   "source": [
    "def extract_answer(answer):\n",
    "    \"\"\"Extracts the correct answers from the provided answer string.\n",
    "\n",
    "    Args:\n",
    "        answer: The answer string to extract the correct answers from.\n",
    "\n",
    "    Returns:\n",
    "        A list of correct answers.\n",
    "    \"\"\"\n",
    "\n",
    "    # Remove reasoning sections enclosed in <think> tags\n",
    "    answer = re.sub(r\"<think>.*?</think>\", \"\", answer, flags=re.DOTALL).strip()\n",
    "\n",
    "    # Remove unnecessary characters for better processing\n",
    "    answer_proc = re.sub(r'[\\s\\n.,]', '', answer)\n",
    "\n",
    "    # Define regex patterns\n",
    "    pattern_single_letters = re.compile(r'^[A-J]+$')\n",
    "\n",
    "    # Improved regex to handle multiple formats, parentheses, and separators\n",
    "    pattern1 = re.compile(\n",
    "        r\"answer is(?!.*\\bnot\\b)\\s*(?:\\[*\\(*\\**([A-J])\\**\\)*\\]*,?\\s*)+\", re.IGNORECASE\n",
    "    )\n",
    "\n",
    "    pattern2 = re.compile(\n",
    "        r\".*[aA]nswer:\\s*(?:\\[*\\(*\\**([A-J])\\**\\)*\\]*,?\\s*)+\", re.IGNORECASE\n",
    "    )\n",
    "\n",
    "    # Directly match if the entire answer consists of letters (A-J)\n",
    "    if re.match(pattern_single_letters, answer_proc):\n",
    "        return list(answer_proc)\n",
    "\n",
    "    else:\n",
    "        # Find all matches\n",
    "        match1 = pattern1.findall(answer)\n",
    "        match2 = pattern2.findall(answer)\n",
    "\n",
    "        # Combine results from both patterns\n",
    "        results = match1 + match2\n",
    "\n",
    "        # Flatten the list and remove duplicates\n",
    "        combined_results = list(set(\"\".join(results)))\n",
    "\n",
    "        return combined_results\n"
   ],
   "id": "307acebc15c8aac9",
   "outputs": [],
   "execution_count": 12
  },
  {
   "metadata": {
    "ExecuteTime": {
     "end_time": "2025-03-17T17:16:34.012570Z",
     "start_time": "2025-03-17T17:16:34.006373Z"
    }
   },
   "cell_type": "code",
   "source": [
    "def process_value(value):\n",
    "    \"\"\"\n",
    "    Modify this function to define how you want to process the values.\n",
    "    \"\"\"\n",
    "    return value * 2  # Example: Modify as per your requirements\n",
    "\n",
    "def process_pkl(input_file, output_file, input_column, output_column, temperature, exam, prompt_engineering):\n",
    "    # Load the DataFrame\n",
    "    with open(input_file, \"rb\") as f:\n",
    "        df = pickle.load(f)\n",
    "\n",
    "    # Ensure input column exists before processing\n",
    "    if input_column not in df.columns:\n",
    "        raise ValueError(f\"Column '{input_column}' not found in the DataFrame.\")\n",
    "\n",
    "    # Apply function to the input column and save results in the new column\n",
    "    df[output_column] = df[input_column].apply(extract_answer)\n",
    "\n",
    "    # Add new columns with constant values\n",
    "    df[\"Temperature\"] = temperature\n",
    "    df[\"Exam\"] = exam\n",
    "    df[\"Prompt_Engineering\"] = prompt_engineering\n",
    "\n",
    "    # Define columns to keep\n",
    "    selected_columns = [\"Exam\",\n",
    "                        \"QuestionIndex\",\n",
    "                        \"NumberOfChoices\",\n",
    "                        \"Model\",\n",
    "                        \"Temperature\",\n",
    "                        \"SamplingIndex\",\n",
    "                        \"LLM_Answer\",\n",
    "                        \"Exam_Answers\",\n",
    "                        output_column,\n",
    "                        \"Prompt_Engineering\"]\n",
    "\n",
    "    # Select only the specified columns\n",
    "    df_selected = df[selected_columns]\n",
    "\n",
    "    # Save the modified DataFrame as a .pkl file\n",
    "    with open(output_file, \"wb\") as f:\n",
    "        pickle.dump(df_selected, f)\n",
    "\n",
    "    print(f\"Processed file saved as: {output_file}\")"
   ],
   "id": "8db911583c92e183",
   "outputs": [],
   "execution_count": 13
  },
  {
   "metadata": {
    "ExecuteTime": {
     "end_time": "2025-03-17T17:16:34.069038Z",
     "start_time": "2025-03-17T17:16:34.060945Z"
    }
   },
   "cell_type": "code",
   "source": [
    "def batch_process_pkl(input_dir, output_dir, input_column, output_column, temperature, exam, prompt_engineering):\n",
    "    # Ensure output directory exists\n",
    "    os.makedirs(output_dir, exist_ok=True)\n",
    "\n",
    "    # Get all .pkl files in the input directory\n",
    "    pkl_files = glob.glob(os.path.join(input_dir, \"*.pkl\"))\n",
    "\n",
    "    if not pkl_files:\n",
    "        print(f\"No .pkl files found in {input_dir}.\")\n",
    "        return\n",
    "\n",
    "    print(f\"Found {len(pkl_files)} .pkl files in {input_dir}. Processing...\")\n",
    "\n",
    "    # Loop through each file and process it\n",
    "    for input_file in pkl_files:\n",
    "        # Generate output file path\n",
    "        filename = os.path.basename(input_file)\n",
    "        output_file = os.path.join(output_dir, f\"processed_{filename}\")\n",
    "\n",
    "        # Process and save\n",
    "        process_pkl(input_file, output_file, input_column, output_column, temperature, exam, prompt_engineering)"
   ],
   "id": "30326691339cb54b",
   "outputs": [],
   "execution_count": 14
  },
  {
   "metadata": {
    "ExecuteTime": {
     "end_time": "2025-03-17T17:16:56.296907Z",
     "start_time": "2025-03-17T17:16:34.121654Z"
    }
   },
   "cell_type": "code",
   "source": [
    "#batch_process_pkl(\n",
    "#     input_dir=\"./exam/201-301-ccna/0_shot/t00/\",\n",
    "#     output_dir=\"./processed_results/\",\n",
    "#     input_column=\"LLM_Answer\",\n",
    "#     output_column=\"Extracted_Answers\",\n",
    "#     temperature=0.0,\n",
    "#     exam=\"CCNA-201-301\",\n",
    "#     prompt_engineering=\"0_shot\"\n",
    "# )"
   ],
   "id": "a2f8251192d40550",
   "outputs": [
    {
     "name": "stdout",
     "output_type": "stream",
     "text": [
      "Found 10 .pkl files in ./exam/201-301-ccna/0_shot/t00/. Processing...\n",
      "Processed file saved as: ./processed_results/processed_100_questions_201-301-CCNA_deepseek-ai_DeepSeek-R1-Distill-Llama-8B_20250206_0853_shuffled_1.pkl\n",
      "Processed file saved as: ./processed_results/processed_100_questions_201-301-CCNA_meta-llama_Llama-3.1-8B-Instruct_20250211_1528_shuffled_4.pkl\n",
      "Processed file saved as: ./processed_results/processed_100_questions_201-301-CCNA_deepseek-ai_DeepSeek-R1-Distill-Llama-8B_20250206_1111_shuffled_4.pkl\n",
      "Processed file saved as: ./processed_results/processed_100_questions_201-301-CCNA_deepseek-ai_DeepSeek-R1-Distill-Llama-8B_20250206_1027_shuffled_3.pkl\n",
      "Processed file saved as: ./processed_results/processed_100_questions_201-301-CCNA_meta-llama_Llama-3.1-8B-Instruct_20250211_1525_shuffled_1.pkl\n",
      "Processed file saved as: ./processed_results/processed_100_questions_201-301-CCNA_deepseek-ai_DeepSeek-R1-Distill-Llama-8B_20250206_0938_shuffled_2.pkl\n",
      "Processed file saved as: ./processed_results/processed_100_questions_201-301-CCNA_deepseek-ai_DeepSeek-R1-Distill-Llama-8B_20250206_0810_shuffled_0.pkl\n",
      "Processed file saved as: ./processed_results/processed_100_questions_201-301-CCNA_meta-llama_Llama-3.1-8B-Instruct_20250211_1523_shuffled_0.pkl\n",
      "Processed file saved as: ./processed_results/processed_100_questions_201-301-CCNA_meta-llama_Llama-3.1-8B-Instruct_20250211_1527_shuffled_3.pkl\n",
      "Processed file saved as: ./processed_results/processed_100_questions_201-301-CCNA_meta-llama_Llama-3.1-8B-Instruct_20250211_1527_shuffled_2.pkl\n"
     ]
    }
   ],
   "execution_count": 15
  }
 ],
 "metadata": {
  "kernelspec": {
   "display_name": "Python 3",
   "language": "python",
   "name": "python3"
  },
  "language_info": {
   "codemirror_mode": {
    "name": "ipython",
    "version": 2
   },
   "file_extension": ".py",
   "mimetype": "text/x-python",
   "name": "python",
   "nbconvert_exporter": "python",
   "pygments_lexer": "ipython2",
   "version": "2.7.6"
  }
 },
 "nbformat": 4,
 "nbformat_minor": 5
}
